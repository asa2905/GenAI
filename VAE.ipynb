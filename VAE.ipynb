{
  "nbformat": 4,
  "nbformat_minor": 0,
  "metadata": {
    "colab": {
      "provenance": []
    },
    "kernelspec": {
      "name": "python3",
      "display_name": "Python 3"
    },
    "language_info": {
      "name": "python"
    }
  },
  "cells": [
    {
      "cell_type": "markdown",
      "source": [
        "### **VAE**"
      ],
      "metadata": {
        "id": "H2McD9FK-uT6"
      }
    },
    {
      "cell_type": "code",
      "source": [
        "import numpy as np\n",
        "import tensorflow as tf\n",
        "from tensorflow import keras\n",
        "from tensorflow.keras import layers\n",
        "from tensorflow.keras.datasets import mnist\n",
        "from tensorflow.keras import backend as K\n",
        "import matplotlib.pyplot as plt"
      ],
      "metadata": {
        "id": "TiA_7dntm9Oa"
      },
      "execution_count": null,
      "outputs": []
    },
    {
      "cell_type": "code",
      "source": [
        "(x_train, y_train), (x_test, y_test) = mnist.load_data()\n",
        "x_train = x_train.astype('float32') / 255.\n",
        "x_test = x_test.astype('float32') / 255."
      ],
      "metadata": {
        "id": "QD9QM-mLm9V5",
        "colab": {
          "base_uri": "https://localhost:8080/"
        },
        "outputId": "72ae0a84-0837-4d2b-9737-ac8b87baadcb"
      },
      "execution_count": null,
      "outputs": [
        {
          "output_type": "stream",
          "name": "stdout",
          "text": [
            "Downloading data from https://storage.googleapis.com/tensorflow/tf-keras-datasets/mnist.npz\n",
            "11490434/11490434 [==============================] - 1s 0us/step\n"
          ]
        }
      ]
    },
    {
      "cell_type": "code",
      "source": [
        "# Flatten images\n",
        "x_train = x_train.reshape((len(x_train), np.prod(x_train.shape[1:])))\n",
        "x_test = x_test.reshape((len(x_test), np.prod(x_test.shape[1:])))\n"
      ],
      "metadata": {
        "id": "dRBsa8Wbm9ZY"
      },
      "execution_count": null,
      "outputs": []
    },
    {
      "cell_type": "code",
      "source": [
        "means = []\n",
        "variances = []"
      ],
      "metadata": {
        "id": "bO98wnCEdwwE"
      },
      "execution_count": null,
      "outputs": []
    },
    {
      "cell_type": "code",
      "source": [
        "def vaeModel(latent_dim):\n",
        "  original_dim = x_train.shape[1]\n",
        "\n",
        "  # Encoder\n",
        "  inputs = keras.Input(shape=(original_dim,))\n",
        "  z_mean = layers.Dense(latent_dim, name='z_mean')(inputs)\n",
        "  z_log_var = layers.Dense(latent_dim, name='z_log_var')(inputs)\n",
        "\n",
        "  def sampling(args):\n",
        "      z_mean, z_log_var = args\n",
        "      epsilon = K.random_normal(shape=(K.shape(z_mean)[0], latent_dim))\n",
        "      return z_mean + K.exp(0.5 * z_log_var) * epsilon\n",
        "\n",
        "  z = layers.Lambda(sampling, name='z')([z_mean, z_log_var])\n",
        "\n",
        "  encoder = keras.Model(inputs, [z_mean, z_log_var, z], name='encoder')\n",
        "\n",
        "  # Decoder\n",
        "  latent_inputs = keras.Input(shape=(latent_dim,), name='z_sampling')\n",
        "  x = layers.Dense(128, activation='relu')(latent_inputs)\n",
        "  outputs = layers.Dense(original_dim, activation='sigmoid')(x)\n",
        "\n",
        "  decoder = keras.Model(latent_inputs, outputs, name='decoder')\n",
        "\n",
        "  # VAE model\n",
        "  outputs = decoder(encoder(inputs)[2])\n",
        "  vae = keras.Model(inputs, outputs, name='vae')\n",
        "\n",
        "\n",
        "  reconstruction_loss = keras.losses.binary_crossentropy(inputs, outputs)\n",
        "  reconstruction_loss *= original_dim\n",
        "  kl_loss = 1 + z_log_var - K.square(z_mean) - K.exp(z_log_var)\n",
        "  kl_loss = K.sum(kl_loss, axis=-1)\n",
        "  kl_loss *= -0.5\n",
        "  vae_loss = K.mean(reconstruction_loss + kl_loss)\n",
        "  vae.add_loss(vae_loss)\n",
        "  vae.compile(optimizer='adam')\n",
        "\n",
        "  vae.fit(x_train, epochs=20, batch_size=128, validation_data=(x_test, None))\n",
        "\n",
        "  #reconstructed_imgs = vae.predict(x_test)\n",
        "  random_latent_vectors = np.random.normal(size=(5, latent_dim))\n",
        "\n",
        "  # Decode the samples\n",
        "  generated_samples = decoder.predict(random_latent_vectors)\n",
        "\n",
        "\n",
        "  #Display images\n",
        "  n = 5\n",
        "  plt.figure(figsize=(20, 4))\n",
        "  for i in range(n):\n",
        "      ax = plt.subplot(2, n, i + 1 )\n",
        "      plt.imshow(generated_samples[i].reshape(28, 28))\n",
        "      plt.gray()\n",
        "      ax.get_xaxis().set_visible(False)\n",
        "      ax.get_yaxis().set_visible(False)\n",
        "  plt.show()\n",
        "\n",
        "  # Calculate mean and variance of latent space\n",
        "  z_mean, z_log_var, _ = encoder.predict(x_train)\n",
        "  latent_mean = np.mean(z_mean, axis=0)\n",
        "  latent_var = np.mean(np.exp(z_log_var), axis=0)\n",
        "\n",
        "  print(latent_mean)\n",
        "  print(latent_var)\n",
        "  means.append(latent_mean)\n",
        "  variances.append(latent_var)\n",
        "  #return np.mean((x_test - generated_samples)**2)"
      ],
      "metadata": {
        "id": "i24edOVW8C4q"
      },
      "execution_count": null,
      "outputs": []
    },
    {
      "cell_type": "code",
      "source": [
        "mse=np.zeros(6)"
      ],
      "metadata": {
        "id": "jJ_D0_g19exu"
      },
      "execution_count": null,
      "outputs": []
    },
    {
      "cell_type": "code",
      "source": [
        "vaeModel(2)"
      ],
      "metadata": {
        "colab": {
          "base_uri": "https://localhost:8080/",
          "height": 937
        },
        "id": "m9_FIVgf-0Bm",
        "outputId": "5ab5e64f-5fd5-4bdc-fb7c-dc90f939e6de"
      },
      "execution_count": null,
      "outputs": [
        {
          "output_type": "stream",
          "name": "stdout",
          "text": [
            "Epoch 1/20\n",
            "469/469 [==============================] - 6s 10ms/step - loss: 225.0024 - val_loss: 186.3425\n",
            "Epoch 2/20\n",
            "469/469 [==============================] - 8s 18ms/step - loss: 180.1028 - val_loss: 176.2599\n",
            "Epoch 3/20\n",
            "469/469 [==============================] - 7s 15ms/step - loss: 175.1038 - val_loss: 174.2188\n",
            "Epoch 4/20\n",
            "469/469 [==============================] - 7s 15ms/step - loss: 173.5343 - val_loss: 173.3128\n",
            "Epoch 5/20\n",
            "469/469 [==============================] - 5s 12ms/step - loss: 172.6564 - val_loss: 172.4929\n",
            "Epoch 6/20\n",
            "469/469 [==============================] - 6s 13ms/step - loss: 171.9555 - val_loss: 171.7247\n",
            "Epoch 7/20\n",
            "469/469 [==============================] - 5s 10ms/step - loss: 171.3266 - val_loss: 171.3827\n",
            "Epoch 8/20\n",
            "469/469 [==============================] - 6s 12ms/step - loss: 170.8109 - val_loss: 170.9849\n",
            "Epoch 9/20\n",
            "469/469 [==============================] - 5s 11ms/step - loss: 170.3455 - val_loss: 170.5651\n",
            "Epoch 10/20\n",
            "469/469 [==============================] - 5s 11ms/step - loss: 170.0073 - val_loss: 170.3648\n",
            "Epoch 11/20\n",
            "469/469 [==============================] - 6s 13ms/step - loss: 169.6336 - val_loss: 169.9790\n",
            "Epoch 12/20\n",
            "469/469 [==============================] - 5s 10ms/step - loss: 169.3368 - val_loss: 169.6837\n",
            "Epoch 13/20\n",
            "469/469 [==============================] - 6s 13ms/step - loss: 169.0563 - val_loss: 169.3694\n",
            "Epoch 14/20\n",
            "469/469 [==============================] - 5s 10ms/step - loss: 168.8261 - val_loss: 169.1965\n",
            "Epoch 15/20\n",
            "469/469 [==============================] - 5s 11ms/step - loss: 168.5954 - val_loss: 169.1394\n",
            "Epoch 16/20\n",
            "469/469 [==============================] - 6s 12ms/step - loss: 168.4321 - val_loss: 168.9708\n",
            "Epoch 17/20\n",
            "469/469 [==============================] - 5s 10ms/step - loss: 168.2306 - val_loss: 168.5861\n",
            "Epoch 18/20\n",
            "469/469 [==============================] - 7s 14ms/step - loss: 168.0613 - val_loss: 168.4762\n",
            "Epoch 19/20\n",
            "469/469 [==============================] - 5s 11ms/step - loss: 167.8821 - val_loss: 168.3372\n",
            "Epoch 20/20\n",
            "469/469 [==============================] - 6s 13ms/step - loss: 167.7725 - val_loss: 168.2166\n",
            "1/1 [==============================] - 0s 60ms/step\n"
          ]
        },
        {
          "output_type": "display_data",
          "data": {
            "text/plain": [
              "<Figure size 2000x400 with 5 Axes>"
            ],
            "image/png": "[encoded data removed]"
          },
          "metadata": {}
        },
        {
          "output_type": "stream",
          "name": "stdout",
          "text": [
            "1875/1875 [==============================] - 3s 2ms/step\n",
            "[-0.15313701 -0.23261908]\n",
            "[0.01786483 0.02016082]\n"
          ]
        }
      ]
    },
    {
      "cell_type": "code",
      "source": [
        "vaeModel(4)"
      ],
      "metadata": {
        "colab": {
          "base_uri": "https://localhost:8080/",
          "height": 937
        },
        "id": "vng0XkyO-_SB",
        "outputId": "915b4f65-8903-4895-d403-572f798e99aa"
      },
      "execution_count": null,
      "outputs": [
        {
          "output_type": "stream",
          "name": "stdout",
          "text": [
            "Epoch 1/20\n",
            "469/469 [==============================] - 7s 12ms/step - loss: 206.5211 - val_loss: 165.9992\n",
            "Epoch 2/20\n",
            "469/469 [==============================] - 10s 22ms/step - loss: 161.5155 - val_loss: 157.7745\n",
            "Epoch 3/20\n",
            "469/469 [==============================] - 9s 19ms/step - loss: 156.4266 - val_loss: 154.5858\n",
            "Epoch 4/20\n",
            "469/469 [==============================] - 9s 20ms/step - loss: 153.6615 - val_loss: 152.3883\n",
            "Epoch 5/20\n",
            "469/469 [==============================] - 6s 13ms/step - loss: 151.9194 - val_loss: 151.0216\n",
            "Epoch 6/20\n",
            "469/469 [==============================] - 6s 14ms/step - loss: 150.7971 - val_loss: 150.1662\n",
            "Epoch 7/20\n",
            "469/469 [==============================] - 6s 12ms/step - loss: 149.9063 - val_loss: 149.3321\n",
            "Epoch 8/20\n",
            "469/469 [==============================] - 5s 10ms/step - loss: 149.1893 - val_loss: 148.7401\n",
            "Epoch 9/20\n",
            "469/469 [==============================] - 5s 10ms/step - loss: 148.5124 - val_loss: 147.9573\n",
            "Epoch 10/20\n",
            "469/469 [==============================] - 6s 13ms/step - loss: 147.9494 - val_loss: 147.4324\n",
            "Epoch 11/20\n",
            "469/469 [==============================] - 5s 11ms/step - loss: 147.4256 - val_loss: 147.2432\n",
            "Epoch 12/20\n",
            "469/469 [==============================] - 6s 14ms/step - loss: 146.9614 - val_loss: 146.4903\n",
            "Epoch 13/20\n",
            "469/469 [==============================] - 5s 10ms/step - loss: 146.5055 - val_loss: 146.1675\n",
            "Epoch 14/20\n",
            "469/469 [==============================] - 5s 11ms/step - loss: 146.1581 - val_loss: 145.6051\n",
            "Epoch 15/20\n",
            "469/469 [==============================] - 6s 13ms/step - loss: 145.7730 - val_loss: 145.6502\n",
            "Epoch 16/20\n",
            "469/469 [==============================] - 5s 11ms/step - loss: 145.5057 - val_loss: 145.2765\n",
            "Epoch 17/20\n",
            "469/469 [==============================] - 6s 13ms/step - loss: 145.2249 - val_loss: 145.2319\n",
            "Epoch 18/20\n",
            "469/469 [==============================] - 5s 11ms/step - loss: 144.9734 - val_loss: 144.7838\n",
            "Epoch 19/20\n",
            "469/469 [==============================] - 6s 12ms/step - loss: 144.7633 - val_loss: 144.6859\n",
            "Epoch 20/20\n",
            "469/469 [==============================] - 5s 11ms/step - loss: 144.5942 - val_loss: 144.5650\n",
            "1/1 [==============================] - 0s 61ms/step\n"
          ]
        },
        {
          "output_type": "display_data",
          "data": {
            "text/plain": [
              "<Figure size 2000x400 with 5 Axes>"
            ],
            "image/png": "[encoded data removed]"
          },
          "metadata": {}
        },
        {
          "output_type": "stream",
          "name": "stdout",
          "text": [
            "1875/1875 [==============================] - 3s 2ms/step\n",
            "[-0.30630094 -0.16135703 -0.18069807  0.10301525]\n",
            "[0.01515423 0.02561371 0.01759134 0.02596779]\n"
          ]
        }
      ]
    },
    {
      "cell_type": "code",
      "source": [
        "vaeModel(8)"
      ],
      "metadata": {
        "colab": {
          "base_uri": "https://localhost:8080/",
          "height": 972
        },
        "id": "-1jKqfqt_DS1",
        "outputId": "c5f6e0a6-678e-43b5-eb69-b17ea4d5e2ba"
      },
      "execution_count": null,
      "outputs": [
        {
          "output_type": "stream",
          "name": "stdout",
          "text": [
            "Epoch 1/20\n",
            "469/469 [==============================] - 6s 11ms/step - loss: 195.9882 - val_loss: 150.3094\n",
            "Epoch 2/20\n",
            "469/469 [==============================] - 7s 14ms/step - loss: 145.3763 - val_loss: 140.1729\n",
            "Epoch 3/20\n",
            "469/469 [==============================] - 5s 11ms/step - loss: 138.6157 - val_loss: 135.6299\n",
            "Epoch 4/20\n",
            "469/469 [==============================] - 6s 14ms/step - loss: 135.1592 - val_loss: 133.1346\n",
            "Epoch 5/20\n",
            "469/469 [==============================] - 5s 11ms/step - loss: 133.0631 - val_loss: 131.1599\n",
            "Epoch 6/20\n",
            "469/469 [==============================] - 5s 11ms/step - loss: 131.4881 - val_loss: 129.8233\n",
            "Epoch 7/20\n",
            "469/469 [==============================] - 6s 12ms/step - loss: 130.2761 - val_loss: 128.7885\n",
            "Epoch 8/20\n",
            "469/469 [==============================] - 5s 11ms/step - loss: 129.3018 - val_loss: 128.0047\n",
            "Epoch 9/20\n",
            "469/469 [==============================] - 6s 13ms/step - loss: 128.5190 - val_loss: 127.3319\n",
            "Epoch 10/20\n",
            "469/469 [==============================] - 5s 10ms/step - loss: 127.8278 - val_loss: 126.7021\n",
            "Epoch 11/20\n",
            "469/469 [==============================] - 6s 13ms/step - loss: 127.3118 - val_loss: 125.9308\n",
            "Epoch 12/20\n",
            "469/469 [==============================] - 5s 11ms/step - loss: 126.8444 - val_loss: 125.8246\n",
            "Epoch 13/20\n",
            "469/469 [==============================] - 5s 11ms/step - loss: 126.4095 - val_loss: 125.3843\n",
            "Epoch 14/20\n",
            "469/469 [==============================] - 7s 14ms/step - loss: 126.0287 - val_loss: 124.8966\n",
            "Epoch 15/20\n",
            "469/469 [==============================] - 6s 12ms/step - loss: 125.6811 - val_loss: 124.6497\n",
            "Epoch 16/20\n",
            "469/469 [==============================] - 7s 15ms/step - loss: 125.3736 - val_loss: 124.3606\n",
            "Epoch 17/20\n",
            "469/469 [==============================] - 5s 11ms/step - loss: 125.1393 - val_loss: 124.0787\n",
            "Epoch 18/20\n",
            "469/469 [==============================] - 6s 14ms/step - loss: 124.8521 - val_loss: 124.0131\n",
            "Epoch 19/20\n",
            "469/469 [==============================] - 5s 11ms/step - loss: 124.6082 - val_loss: 123.7487\n",
            "Epoch 20/20\n",
            "469/469 [==============================] - 6s 12ms/step - loss: 124.3870 - val_loss: 123.6545\n",
            "1/1 [==============================] - 0s 88ms/step\n"
          ]
        },
        {
          "output_type": "display_data",
          "data": {
            "text/plain": [
              "<Figure size 2000x400 with 5 Axes>"
            ],
            "image/png": "[encoded data removed]"
          },
          "metadata": {}
        },
        {
          "output_type": "stream",
          "name": "stdout",
          "text": [
            "1875/1875 [==============================] - 3s 2ms/step\n",
            "[-0.05903815  0.01813288 -0.05202366  0.07337853 -0.12449541 -0.25588632\n",
            "  0.02448148 -0.09600405]\n",
            "[0.0427223  0.01985142 0.04051613 0.03002462 0.02678681 0.0237396\n",
            " 0.02900968 0.04839414]\n"
          ]
        }
      ]
    },
    {
      "cell_type": "code",
      "source": [
        "vaeModel(16)"
      ],
      "metadata": {
        "colab": {
          "base_uri": "https://localhost:8080/",
          "height": 1000
        },
        "id": "0x9768e2_Hn6",
        "outputId": "75c1a1cd-88be-479a-e516-1daa162fe430"
      },
      "execution_count": null,
      "outputs": [
        {
          "output_type": "stream",
          "name": "stdout",
          "text": [
            "Epoch 1/20\n",
            "469/469 [==============================] - 9s 16ms/step - loss: 187.7527 - val_loss: 143.9847\n",
            "Epoch 2/20\n",
            "469/469 [==============================] - 5s 11ms/step - loss: 137.0636 - val_loss: 130.1759\n",
            "Epoch 3/20\n",
            "469/469 [==============================] - 6s 14ms/step - loss: 128.3150 - val_loss: 124.6703\n",
            "Epoch 4/20\n",
            "469/469 [==============================] - 5s 11ms/step - loss: 124.0349 - val_loss: 121.3931\n",
            "Epoch 5/20\n",
            "469/469 [==============================] - 6s 13ms/step - loss: 121.4154 - val_loss: 119.1765\n",
            "Epoch 6/20\n",
            "469/469 [==============================] - 5s 11ms/step - loss: 119.5905 - val_loss: 117.8453\n",
            "Epoch 7/20\n",
            "469/469 [==============================] - 5s 10ms/step - loss: 118.3096 - val_loss: 116.5489\n",
            "Epoch 8/20\n",
            "469/469 [==============================] - 6s 14ms/step - loss: 117.3559 - val_loss: 115.7541\n",
            "Epoch 9/20\n",
            "469/469 [==============================] - 5s 11ms/step - loss: 116.6051 - val_loss: 115.1754\n",
            "Epoch 10/20\n",
            "469/469 [==============================] - 6s 14ms/step - loss: 116.0235 - val_loss: 114.7438\n",
            "Epoch 11/20\n",
            "469/469 [==============================] - 5s 11ms/step - loss: 115.4838 - val_loss: 114.2848\n",
            "Epoch 12/20\n",
            "469/469 [==============================] - 6s 12ms/step - loss: 115.0560 - val_loss: 113.9263\n",
            "Epoch 13/20\n",
            "469/469 [==============================] - 5s 11ms/step - loss: 114.7247 - val_loss: 113.6486\n",
            "Epoch 14/20\n",
            "469/469 [==============================] - 6s 12ms/step - loss: 114.4075 - val_loss: 113.3938\n",
            "Epoch 15/20\n",
            "469/469 [==============================] - 6s 13ms/step - loss: 114.1665 - val_loss: 113.0641\n",
            "Epoch 16/20\n",
            "469/469 [==============================] - 5s 11ms/step - loss: 113.9806 - val_loss: 112.9871\n",
            "Epoch 17/20\n",
            "469/469 [==============================] - 6s 13ms/step - loss: 113.7766 - val_loss: 112.8381\n",
            "Epoch 18/20\n",
            "469/469 [==============================] - 5s 11ms/step - loss: 113.6347 - val_loss: 112.6179\n",
            "Epoch 19/20\n",
            "469/469 [==============================] - 6s 14ms/step - loss: 113.4612 - val_loss: 112.4472\n",
            "Epoch 20/20\n",
            "469/469 [==============================] - 5s 11ms/step - loss: 113.3309 - val_loss: 112.3739\n",
            "1/1 [==============================] - 0s 55ms/step\n"
          ]
        },
        {
          "output_type": "display_data",
          "data": {
            "text/plain": [
              "<Figure size 2000x400 with 5 Axes>"
            ],
            "image/png": "[encoded data removed]"
          },
          "metadata": {}
        },
        {
          "output_type": "stream",
          "name": "stdout",
          "text": [
            "1875/1875 [==============================] - 4s 2ms/step\n",
            "[ 0.04885548 -0.00041881  0.05945931 -0.06133616 -0.04068352  0.00357787\n",
            "  0.02117815 -0.0497772  -0.06649807  0.02316537  0.05037568 -0.05317244\n",
            "  0.04380499  0.02142406  0.02910408 -0.01432952]\n",
            "[0.10332775 0.0733467  0.05191106 0.03755296 0.10072686 0.05114798\n",
            " 0.1003392  0.10400619 0.02632463 0.04386552 0.0790661  0.02942904\n",
            " 0.09206714 0.0230977  0.16346614 0.11908314]\n"
          ]
        }
      ]
    },
    {
      "cell_type": "code",
      "source": [
        "vaeModel(32)"
      ],
      "metadata": {
        "colab": {
          "base_uri": "https://localhost:8080/",
          "height": 1000
        },
        "id": "mxnnbLAf_Jaj",
        "outputId": "f53cb272-85a2-426b-89ad-9ea06545a663"
      },
      "execution_count": null,
      "outputs": [
        {
          "output_type": "stream",
          "name": "stdout",
          "text": [
            "Epoch 1/20\n",
            "469/469 [==============================] - 6s 11ms/step - loss: 183.5914 - val_loss: 144.2258\n",
            "Epoch 2/20\n",
            "469/469 [==============================] - 6s 13ms/step - loss: 137.1122 - val_loss: 129.6313\n",
            "Epoch 3/20\n",
            "469/469 [==============================] - 5s 11ms/step - loss: 127.1654 - val_loss: 123.1078\n",
            "Epoch 4/20\n",
            "469/469 [==============================] - 6s 13ms/step - loss: 122.4850 - val_loss: 119.8102\n",
            "Epoch 5/20\n",
            "469/469 [==============================] - 6s 12ms/step - loss: 119.7553 - val_loss: 117.6814\n",
            "Epoch 6/20\n",
            "469/469 [==============================] - 5s 12ms/step - loss: 118.0050 - val_loss: 116.2662\n",
            "Epoch 7/20\n",
            "469/469 [==============================] - 6s 13ms/step - loss: 116.7878 - val_loss: 115.3336\n",
            "Epoch 8/20\n",
            "469/469 [==============================] - 6s 12ms/step - loss: 115.8294 - val_loss: 114.3910\n",
            "Epoch 9/20\n",
            "469/469 [==============================] - 6s 13ms/step - loss: 115.0762 - val_loss: 113.7487\n",
            "Epoch 10/20\n",
            "469/469 [==============================] - 5s 12ms/step - loss: 114.5793 - val_loss: 113.1492\n",
            "Epoch 11/20\n",
            "469/469 [==============================] - 6s 13ms/step - loss: 114.0633 - val_loss: 112.8390\n",
            "Epoch 12/20\n",
            "469/469 [==============================] - 5s 11ms/step - loss: 113.6183 - val_loss: 112.7123\n",
            "Epoch 13/20\n",
            "469/469 [==============================] - 6s 14ms/step - loss: 113.3042 - val_loss: 112.1986\n",
            "Epoch 14/20\n",
            "469/469 [==============================] - 5s 11ms/step - loss: 112.9699 - val_loss: 111.9633\n",
            "Epoch 15/20\n",
            "469/469 [==============================] - 6s 12ms/step - loss: 112.6967 - val_loss: 111.6462\n",
            "Epoch 16/20\n",
            "469/469 [==============================] - 6s 13ms/step - loss: 112.4411 - val_loss: 111.3355\n",
            "Epoch 17/20\n",
            "469/469 [==============================] - 5s 11ms/step - loss: 112.2844 - val_loss: 111.3941\n",
            "Epoch 18/20\n",
            "469/469 [==============================] - 7s 14ms/step - loss: 112.0465 - val_loss: 111.2136\n",
            "Epoch 19/20\n",
            "469/469 [==============================] - 5s 11ms/step - loss: 111.9044 - val_loss: 110.8377\n",
            "Epoch 20/20\n",
            "469/469 [==============================] - 7s 14ms/step - loss: 111.6883 - val_loss: 110.7886\n",
            "1/1 [==============================] - 0s 58ms/step\n"
          ]
        },
        {
          "output_type": "display_data",
          "data": {
            "text/plain": [
              "<Figure size 2000x400 with 5 Axes>"
            ],
            "image/png": "[encoded data removed]"
          },
          "metadata": {}
        },
        {
          "output_type": "stream",
          "name": "stdout",
          "text": [
            "1875/1875 [==============================] - 4s 2ms/step\n",
            "[ 0.01888099  0.05444906 -0.05516068  0.01762926 -0.03759546  0.01531255\n",
            " -0.05001296  0.00772632  0.03264191 -0.00796072 -0.01417369  0.07434828\n",
            " -0.06134255  0.01620435 -0.06561587 -0.03086011  0.02856812  0.01871007\n",
            "  0.07646897  0.0122434  -0.01700099 -0.00240341 -0.02008227 -0.02053077\n",
            " -0.0102849   0.08477087  0.04049835 -0.02280356  0.00512107  0.01730081\n",
            " -0.02634894 -0.00773921]\n",
            "[0.29700422 0.12042857 0.05873073 1.0061319  0.257594   0.26590773\n",
            " 0.08500542 0.24513654 0.20676671 0.04356414 0.4403224  0.03969191\n",
            " 0.37612107 0.06701081 0.08966013 0.09530243 0.05939541 0.16071998\n",
            " 0.17798136 0.07952287 0.94181496 0.1442811  0.73892164 0.34113312\n",
            " 0.51376593 0.31720087 0.10397889 0.37495056 0.04448092 0.7847951\n",
            " 0.50024515 0.217889  ]\n"
          ]
        }
      ]
    },
    {
      "cell_type": "code",
      "source": [
        "vaeModel(64)"
      ],
      "metadata": {
        "colab": {
          "base_uri": "https://localhost:8080/",
          "height": 1000
        },
        "id": "2EAB6J0L_LI6",
        "outputId": "f739becd-3a6a-4393-a1e4-c786b7cd247e"
      },
      "execution_count": null,
      "outputs": [
        {
          "output_type": "stream",
          "name": "stdout",
          "text": [
            "Epoch 1/20\n",
            "469/469 [==============================] - 7s 12ms/step - loss: 183.2688 - val_loss: 145.9747\n",
            "Epoch 2/20\n",
            "469/469 [==============================] - 8s 18ms/step - loss: 139.3246 - val_loss: 132.2927\n",
            "Epoch 3/20\n",
            "469/469 [==============================] - 6s 12ms/step - loss: 129.5021 - val_loss: 125.2229\n",
            "Epoch 4/20\n",
            "469/469 [==============================] - 7s 15ms/step - loss: 124.0492 - val_loss: 120.9328\n",
            "Epoch 5/20\n",
            "469/469 [==============================] - 6s 13ms/step - loss: 120.7281 - val_loss: 118.6049\n",
            "Epoch 6/20\n",
            "469/469 [==============================] - 7s 14ms/step - loss: 118.7032 - val_loss: 116.9254\n",
            "Epoch 7/20\n",
            "469/469 [==============================] - 6s 12ms/step - loss: 117.2964 - val_loss: 115.7723\n",
            "Epoch 8/20\n",
            "469/469 [==============================] - 7s 15ms/step - loss: 116.2861 - val_loss: 114.8313\n",
            "Epoch 9/20\n",
            "469/469 [==============================] - 6s 12ms/step - loss: 115.5356 - val_loss: 114.2680\n",
            "Epoch 10/20\n",
            "469/469 [==============================] - 7s 14ms/step - loss: 114.8095 - val_loss: 113.6136\n",
            "Epoch 11/20\n",
            "469/469 [==============================] - 6s 12ms/step - loss: 114.2796 - val_loss: 113.2185\n",
            "Epoch 12/20\n",
            "469/469 [==============================] - 7s 15ms/step - loss: 113.8759 - val_loss: 112.8281\n",
            "Epoch 13/20\n",
            "469/469 [==============================] - 6s 12ms/step - loss: 113.5239 - val_loss: 112.3330\n",
            "Epoch 14/20\n",
            "469/469 [==============================] - 7s 16ms/step - loss: 113.2051 - val_loss: 112.1615\n",
            "Epoch 15/20\n",
            "469/469 [==============================] - 6s 13ms/step - loss: 112.8936 - val_loss: 111.8579\n",
            "Epoch 16/20\n",
            "469/469 [==============================] - 7s 15ms/step - loss: 112.6636 - val_loss: 111.7307\n",
            "Epoch 17/20\n",
            "469/469 [==============================] - 6s 12ms/step - loss: 112.3924 - val_loss: 111.4544\n",
            "Epoch 18/20\n",
            "469/469 [==============================] - 7s 15ms/step - loss: 112.2231 - val_loss: 111.3519\n",
            "Epoch 19/20\n",
            "469/469 [==============================] - 6s 12ms/step - loss: 112.0713 - val_loss: 111.1967\n",
            "Epoch 20/20\n",
            "469/469 [==============================] - 7s 15ms/step - loss: 111.8453 - val_loss: 110.9988\n",
            "1/1 [==============================] - 0s 56ms/step\n"
          ]
        },
        {
          "output_type": "display_data",
          "data": {
            "text/plain": [
              "<Figure size 2000x400 with 5 Axes>"
            ],
            "image/png": "[encoded data removed]"
          },
          "metadata": {}
        },
        {
          "output_type": "stream",
          "name": "stdout",
          "text": [
            "1875/1875 [==============================] - 4s 2ms/step\n",
            "[ 3.3998556e-02 -1.6883351e-02  1.5708311e-02  9.8003730e-02\n",
            " -2.2186723e-02  1.7635064e-02 -1.7841874e-02  5.4038718e-02\n",
            " -3.0148562e-02 -2.0078557e-02 -3.1688724e-02 -4.0662214e-02\n",
            "  7.4468036e-03 -1.4485076e-02  1.6654547e-03 -3.9881417e-03\n",
            "  6.2429113e-03  1.1079806e-02  2.1476904e-03  7.7413842e-03\n",
            " -7.8656450e-03  7.7729309e-03 -1.0247029e-02  1.1418075e-02\n",
            " -5.0056968e-03  7.2901472e-02  7.1169161e-03 -4.7782425e-02\n",
            " -3.8501921e-03  8.8572055e-03 -4.6103563e-02  2.1896897e-02\n",
            " -1.9103047e-02  3.0507408e-02  1.9520445e-02  3.0384682e-02\n",
            " -1.4238803e-02 -1.0476614e-02  2.8365459e-02  1.5899701e-02\n",
            "  1.0778611e-02 -7.8530802e-04 -3.8150094e-02 -4.4711392e-02\n",
            " -2.8707987e-02  5.0604227e-03 -4.0506378e-02  3.4732100e-02\n",
            "  3.3648413e-02 -1.9683260e-02  1.1030264e-02  1.8480023e-02\n",
            "  3.9529383e-02 -5.6548402e-02 -4.1842166e-02 -1.1739558e-01\n",
            "  4.3834420e-03  1.7927842e-02 -2.7631402e-02 -2.2964727e-02\n",
            "  3.6805766e-03  1.8685498e-05  3.9613503e-03  7.5495735e-02]\n",
            "[0.0351739  0.4574086  0.9884923  0.04178432 0.19344683 1.0076783\n",
            " 0.11742082 0.536876   0.10765224 0.13580053 0.9992576  0.9780056\n",
            " 0.05593951 0.9876326  1.0107559  1.0162137  0.28320256 0.3495747\n",
            " 1.0180068  0.16202989 0.9938582  0.922851   0.15316662 0.99632\n",
            " 0.9937546  0.9817799  0.9975583  0.2994141  0.97650844 0.97740376\n",
            " 1.017946   0.13002007 0.9904692  0.96110743 0.60798144 0.11698973\n",
            " 0.97917646 0.901657   0.5860931  0.375093   0.96032786 1.0092151\n",
            " 0.501771   0.12105372 0.13096239 0.99745095 1.0161158  0.7093867\n",
            " 0.05339575 0.9862899  0.33598134 0.16925415 0.04861988 0.5447429\n",
            " 0.05485014 0.46670395 0.29206994 0.9949459  1.024661   0.9961807\n",
            " 1.0245531  0.9922161  0.99557436 0.4221803 ]\n"
          ]
        }
      ]
    },
    {
      "cell_type": "code",
      "source": [
        "print(means)\n",
        "print(variances)"
      ],
      "metadata": {
        "colab": {
          "base_uri": "https://localhost:8080/"
        },
        "id": "DwNq1ob1ftJR",
        "outputId": "ac9e1adc-4713-42df-ff7a-7aff5ac7b955"
      },
      "execution_count": null,
      "outputs": [
        {
          "output_type": "stream",
          "name": "stdout",
          "text": [
            "[array([-0.15313701, -0.23261908], dtype=float32), array([-0.30630094, -0.16135703, -0.18069807,  0.10301525], dtype=float32), array([-0.05903815,  0.01813288, -0.05202366,  0.07337853, -0.12449541,\n",
            "       -0.25588632,  0.02448148, -0.09600405], dtype=float32), array([ 0.04885548, -0.00041881,  0.05945931, -0.06133616, -0.04068352,\n",
            "        0.00357787,  0.02117815, -0.0497772 , -0.06649807,  0.02316537,\n",
            "        0.05037568, -0.05317244,  0.04380499,  0.02142406,  0.02910408,\n",
            "       -0.01432952], dtype=float32), array([ 0.01888099,  0.05444906, -0.05516068,  0.01762926, -0.03759546,\n",
            "        0.01531255, -0.05001296,  0.00772632,  0.03264191, -0.00796072,\n",
            "       -0.01417369,  0.07434828, -0.06134255,  0.01620435, -0.06561587,\n",
            "       -0.03086011,  0.02856812,  0.01871007,  0.07646897,  0.0122434 ,\n",
            "       -0.01700099, -0.00240341, -0.02008227, -0.02053077, -0.0102849 ,\n",
            "        0.08477087,  0.04049835, -0.02280356,  0.00512107,  0.01730081,\n",
            "       -0.02634894, -0.00773921], dtype=float32), array([ 3.3998556e-02, -1.6883351e-02,  1.5708311e-02,  9.8003730e-02,\n",
            "       -2.2186723e-02,  1.7635064e-02, -1.7841874e-02,  5.4038718e-02,\n",
            "       -3.0148562e-02, -2.0078557e-02, -3.1688724e-02, -4.0662214e-02,\n",
            "        7.4468036e-03, -1.4485076e-02,  1.6654547e-03, -3.9881417e-03,\n",
            "        6.2429113e-03,  1.1079806e-02,  2.1476904e-03,  7.7413842e-03,\n",
            "       -7.8656450e-03,  7.7729309e-03, -1.0247029e-02,  1.1418075e-02,\n",
            "       -5.0056968e-03,  7.2901472e-02,  7.1169161e-03, -4.7782425e-02,\n",
            "       -3.8501921e-03,  8.8572055e-03, -4.6103563e-02,  2.1896897e-02,\n",
            "       -1.9103047e-02,  3.0507408e-02,  1.9520445e-02,  3.0384682e-02,\n",
            "       -1.4238803e-02, -1.0476614e-02,  2.8365459e-02,  1.5899701e-02,\n",
            "        1.0778611e-02, -7.8530802e-04, -3.8150094e-02, -4.4711392e-02,\n",
            "       -2.8707987e-02,  5.0604227e-03, -4.0506378e-02,  3.4732100e-02,\n",
            "        3.3648413e-02, -1.9683260e-02,  1.1030264e-02,  1.8480023e-02,\n",
            "        3.9529383e-02, -5.6548402e-02, -4.1842166e-02, -1.1739558e-01,\n",
            "        4.3834420e-03,  1.7927842e-02, -2.7631402e-02, -2.2964727e-02,\n",
            "        3.6805766e-03,  1.8685498e-05,  3.9613503e-03,  7.5495735e-02],\n",
            "      dtype=float32)]\n",
            "[array([0.01786483, 0.02016082], dtype=float32), array([0.01515423, 0.02561371, 0.01759134, 0.02596779], dtype=float32), array([0.0427223 , 0.01985142, 0.04051613, 0.03002462, 0.02678681,\n",
            "       0.0237396 , 0.02900968, 0.04839414], dtype=float32), array([0.10332775, 0.0733467 , 0.05191106, 0.03755296, 0.10072686,\n",
            "       0.05114798, 0.1003392 , 0.10400619, 0.02632463, 0.04386552,\n",
            "       0.0790661 , 0.02942904, 0.09206714, 0.0230977 , 0.16346614,\n",
            "       0.11908314], dtype=float32), array([0.29700422, 0.12042857, 0.05873073, 1.0061319 , 0.257594  ,\n",
            "       0.26590773, 0.08500542, 0.24513654, 0.20676671, 0.04356414,\n",
            "       0.4403224 , 0.03969191, 0.37612107, 0.06701081, 0.08966013,\n",
            "       0.09530243, 0.05939541, 0.16071998, 0.17798136, 0.07952287,\n",
            "       0.94181496, 0.1442811 , 0.73892164, 0.34113312, 0.51376593,\n",
            "       0.31720087, 0.10397889, 0.37495056, 0.04448092, 0.7847951 ,\n",
            "       0.50024515, 0.217889  ], dtype=float32), array([0.0351739 , 0.4574086 , 0.9884923 , 0.04178432, 0.19344683,\n",
            "       1.0076783 , 0.11742082, 0.536876  , 0.10765224, 0.13580053,\n",
            "       0.9992576 , 0.9780056 , 0.05593951, 0.9876326 , 1.0107559 ,\n",
            "       1.0162137 , 0.28320256, 0.3495747 , 1.0180068 , 0.16202989,\n",
            "       0.9938582 , 0.922851  , 0.15316662, 0.99632   , 0.9937546 ,\n",
            "       0.9817799 , 0.9975583 , 0.2994141 , 0.97650844, 0.97740376,\n",
            "       1.017946  , 0.13002007, 0.9904692 , 0.96110743, 0.60798144,\n",
            "       0.11698973, 0.97917646, 0.901657  , 0.5860931 , 0.375093  ,\n",
            "       0.96032786, 1.0092151 , 0.501771  , 0.12105372, 0.13096239,\n",
            "       0.99745095, 1.0161158 , 0.7093867 , 0.05339575, 0.9862899 ,\n",
            "       0.33598134, 0.16925415, 0.04861988, 0.5447429 , 0.05485014,\n",
            "       0.46670395, 0.29206994, 0.9949459 , 1.024661  , 0.9961807 ,\n",
            "       1.0245531 , 0.9922161 , 0.99557436, 0.4221803 ], dtype=float32)]\n"
          ]
        }
      ]
    },
    {
      "cell_type": "code",
      "source": [],
      "metadata": {
        "id": "FQzRPdbsgGQ7"
      },
      "execution_count": null,
      "outputs": []
    }
  ]
}